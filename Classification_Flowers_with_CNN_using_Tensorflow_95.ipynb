{
  "nbformat": 4,
  "nbformat_minor": 0,
  "metadata": {
    "colab": {
      "name": "Classification Flowers with CNN using Tensorflow 95",
      "provenance": [],
      "collapsed_sections": [],
      "include_colab_link": true
    },
    "kernelspec": {
      "name": "python3",
      "display_name": "Python 3"
    },
    "language_info": {
      "name": "python"
    },
    "accelerator": "GPU",
    "gpuClass": "standard"
  },
  "cells": [
    {
      "cell_type": "markdown",
      "metadata": {
        "id": "view-in-github",
        "colab_type": "text"
      },
      "source": [
        "<a href=\"https://colab.research.google.com/github/dickyadem/Classification-Flowers-with-CNN-using-Tensorflow-Accuracy-95-and-validation-accuracy-85/blob/main/Classification_Flowers_with_CNN_using_Tensorflow_95.ipynb\" target=\"_parent\"><img src=\"https://colab.research.google.com/assets/colab-badge.svg\" alt=\"Open In Colab\"/></a>"
      ]
    },
    {
      "cell_type": "markdown",
      "source": [
        "# Import Library"
      ],
      "metadata": {
        "id": "xYb8P1Y8Ff4-"
      }
    },
    {
      "cell_type": "code",
      "execution_count": null,
      "metadata": {
        "id": "3uLIX74-6-uW"
      },
      "outputs": [],
      "source": [
        "import tensorflow as tf\n",
        "import zipfile,os\n",
        "from tensorflow.keras.preprocessing.image import ImageDataGenerator\n",
        "import cv2\n",
        "import numpy as np\n",
        "import seaborn as sns\n",
        "from google.colab import files\n",
        "from tensorflow.keras.preprocessing import image\n",
        "from tensorflow.keras.utils import to_categorical\n",
        "from sklearn.model_selection import train_test_split\n",
        "import matplotlib.pyplot as plt\n",
        "import matplotlib.image as mpimg\n",
        "import matplotlib.pyplot as plt\n",
        "import matplotlib.image as mpimg\n",
        "from tensorflow.keras.callbacks import EarlyStopping\n",
        "%matplotlib inline"
      ]
    },
    {
      "cell_type": "markdown",
      "source": [
        "# Preprocessing Data"
      ],
      "metadata": {
        "id": "JkLKVj4XEtr3"
      }
    },
    {
      "cell_type": "code",
      "source": [
        "from google.colab import drive\n",
        "drive.mount('/content/drive')"
      ],
      "metadata": {
        "colab": {
          "base_uri": "https://localhost:8080/"
        },
        "id": "bder7n6A52xZ",
        "outputId": "6e13016d-592b-401e-dbba-f9166b33ce97"
      },
      "execution_count": null,
      "outputs": [
        {
          "output_type": "stream",
          "name": "stdout",
          "text": [
            "Mounted at /content/drive\n"
          ]
        }
      ]
    },
    {
      "cell_type": "code",
      "source": [
        "dataset=\"/content/drive/MyDrive/Colab Notebooks/flowers/flowers\"\n",
        "IMAGE_DIM = 150,150\n",
        "CLASSES = ['daisy', 'dandelion', 'rose']\n",
        "train = []\n",
        "\n",
        "for i in CLASSES:\n",
        "    path = os.path.join(dataset,i)\n",
        "    idx = CLASSES.index(i)\n",
        "    for img in os.listdir(path):\n",
        "        if img.endswith('.jpg'):\n",
        "            img_array = cv2.imread(os.path.join(path, img), cv2.IMREAD_COLOR)\n",
        "            img_array = cv2.resize(img_array, IMAGE_DIM)\n",
        "            train.append([img_array, idx])\n",
        "            \n",
        "X=[] \n",
        "y=[] \n",
        "for i,j in train:\n",
        "    X.append(i)\n",
        "    y.append(j)\n",
        "\n",
        "\n"
      ],
      "metadata": {
        "id": "LOri1Pw2zW9d"
      },
      "execution_count": null,
      "outputs": []
    },
    {
      "cell_type": "code",
      "source": [
        "X = np.array(X).reshape(-1,*IMAGE_DIM,3)/255.0\n",
        "\n",
        "y = to_categorical(y)\n",
        "\n",
        "x_train, x_test, y_train, y_test = train_test_split(X, y, test_size = 0.2, random_state = 9)\n",
        "\n",
        "np.shape(x_train), np.shape(y_train), np.shape(x_test), np.shape(y_test)"
      ],
      "metadata": {
        "id": "7MIg4HZIk8H8",
        "colab": {
          "base_uri": "https://localhost:8080/"
        },
        "outputId": "6966ccdc-31f5-41dc-db06-6ab03ee0928f"
      },
      "execution_count": null,
      "outputs": [
        {
          "output_type": "execute_result",
          "data": {
            "text/plain": [
              "((2084, 150, 150, 3), (2084, 3), (521, 150, 150, 3), (521, 3))"
            ]
          },
          "metadata": {},
          "execution_count": 4
        }
      ]
    },
    {
      "cell_type": "code",
      "source": [
        "datagen = ImageDataGenerator(\n",
        "                    rescale=1./255,\n",
        "                    rotation_range=20,\n",
        "                    horizontal_flip=True,\n",
        "                    vertical_flip=True,\n",
        "                    shear_range = 0.2,\n",
        "                    brightness_range=[0.6,1],\n",
        "                    fill_mode = 'nearest',\n",
        "                    validation_split=0.2\n",
        "                    )\n",
        "datagen.fit(x_train)"
      ],
      "metadata": {
        "id": "__oVyhei7yAO"
      },
      "execution_count": null,
      "outputs": []
    },
    {
      "cell_type": "markdown",
      "source": [
        "#Modeling"
      ],
      "metadata": {
        "id": "9Jb3-DW7E18r"
      }
    },
    {
      "cell_type": "code",
      "source": [
        "model = tf.keras.models.Sequential([\n",
        "    tf.keras.layers.Conv2D(32, (3,3), activation='relu', input_shape=(*IMAGE_DIM,3)),\n",
        "    tf.keras.layers.MaxPooling2D(pool_size=(2,2), strides=(2,2)),\n",
        "    tf.keras.layers.Conv2D(128, (3,3), activation='relu'),\n",
        "    tf.keras.layers.MaxPooling2D(pool_size=(2,2), strides=(2,2)),\n",
        "    tf.keras.layers.Flatten(),\n",
        "    tf.keras.layers.Dropout(0.5, input_shape=(2,)),\n",
        "    tf.keras.layers.Dense(512, activation='relu'),\n",
        "    tf.keras.layers.BatchNormalization(),\n",
        "    tf.keras.layers.Dense(128, activation='relu'),\n",
        "    tf.keras.layers.BatchNormalization(),\n",
        "    tf.keras.layers.Dense(3, activation='softmax')\n",
        "])\n"
      ],
      "metadata": {
        "id": "g3-1fjZY74P9"
      },
      "execution_count": null,
      "outputs": []
    },
    {
      "cell_type": "markdown",
      "source": [
        "# Training"
      ],
      "metadata": {
        "id": "UR9R7g5XE_kx"
      }
    },
    {
      "cell_type": "code",
      "source": [
        "METRICS = [tf.keras.metrics.CategoricalAccuracy(name=\"categorical_accuracy\")]\n",
        "\n",
        "opt=tf.keras.optimizers.Adam(\n",
        "    learning_rate=0.001)\n",
        "model.compile(loss='categorical_crossentropy',\n",
        "              optimizer=opt,\n",
        "              metrics=METRICS)\n",
        " \n"
      ],
      "metadata": {
        "id": "lexV2XmS8A2P"
      },
      "execution_count": null,
      "outputs": []
    },
    {
      "cell_type": "code",
      "source": [
        "earlystop = EarlyStopping(monitor='loss', patience=5)"
      ],
      "metadata": {
        "id": "k0JDpr7G3Zol"
      },
      "execution_count": null,
      "outputs": []
    },
    {
      "cell_type": "code",
      "source": [
        "EPOCHS = 40\n",
        "BATCH_SIZE = 128\n",
        "NUM_TRAINING_IMAGES = x_train.shape[0]\n",
        "STEPS_PER_EPOCH = NUM_TRAINING_IMAGES // BATCH_SIZE"
      ],
      "metadata": {
        "id": "7yckBc4Rl9vM"
      },
      "execution_count": null,
      "outputs": []
    },
    {
      "cell_type": "code",
      "source": [
        "\n",
        "history = model.fit(datagen.flow(x_train, y_train, batch_size = BATCH_SIZE),\n",
        "                        epochs = EPOCHS, verbose = 1, \n",
        "                        callbacks = earlystop,\n",
        "                        validation_data = (x_test,y_test),\n",
        "                        steps_per_epoch = STEPS_PER_EPOCH)"
      ],
      "metadata": {
        "id": "DpsOGmrZsoeF",
        "colab": {
          "base_uri": "https://localhost:8080/"
        },
        "outputId": "90ca49cb-2d17-47b4-ef98-9fceb438e452"
      },
      "execution_count": null,
      "outputs": [
        {
          "output_type": "stream",
          "name": "stdout",
          "text": [
            "Epoch 1/40\n",
            "16/16 [==============================] - 25s 716ms/step - loss: 1.0284 - categorical_accuracy: 0.5854 - val_loss: 3.3854 - val_categorical_accuracy: 0.4319\n",
            "Epoch 2/40\n",
            "16/16 [==============================] - 11s 684ms/step - loss: 0.7283 - categorical_accuracy: 0.6933 - val_loss: 3.1187 - val_categorical_accuracy: 0.4587\n",
            "Epoch 3/40\n",
            "16/16 [==============================] - 11s 718ms/step - loss: 0.6564 - categorical_accuracy: 0.7336 - val_loss: 1.6252 - val_categorical_accuracy: 0.5048\n",
            "Epoch 4/40\n",
            "16/16 [==============================] - 12s 723ms/step - loss: 0.6159 - categorical_accuracy: 0.7459 - val_loss: 0.8526 - val_categorical_accuracy: 0.6392\n",
            "Epoch 5/40\n",
            "16/16 [==============================] - 11s 686ms/step - loss: 0.5805 - categorical_accuracy: 0.7699 - val_loss: 0.7710 - val_categorical_accuracy: 0.6699\n",
            "Epoch 6/40\n",
            "16/16 [==============================] - 11s 685ms/step - loss: 0.5361 - categorical_accuracy: 0.7904 - val_loss: 0.7546 - val_categorical_accuracy: 0.7083\n",
            "Epoch 7/40\n",
            "16/16 [==============================] - 12s 730ms/step - loss: 0.5091 - categorical_accuracy: 0.8062 - val_loss: 0.7917 - val_categorical_accuracy: 0.6488\n",
            "Epoch 8/40\n",
            "16/16 [==============================] - 11s 688ms/step - loss: 0.4709 - categorical_accuracy: 0.8073 - val_loss: 0.5465 - val_categorical_accuracy: 0.7812\n",
            "Epoch 9/40\n",
            "16/16 [==============================] - 12s 777ms/step - loss: 0.4525 - categorical_accuracy: 0.8216 - val_loss: 0.5471 - val_categorical_accuracy: 0.7754\n",
            "Epoch 10/40\n",
            "16/16 [==============================] - 11s 681ms/step - loss: 0.4439 - categorical_accuracy: 0.8277 - val_loss: 0.5028 - val_categorical_accuracy: 0.7908\n",
            "Epoch 11/40\n",
            "16/16 [==============================] - 11s 726ms/step - loss: 0.4320 - categorical_accuracy: 0.8277 - val_loss: 0.5216 - val_categorical_accuracy: 0.7908\n",
            "Epoch 12/40\n",
            "16/16 [==============================] - 11s 687ms/step - loss: 0.3925 - categorical_accuracy: 0.8502 - val_loss: 0.5426 - val_categorical_accuracy: 0.7927\n",
            "Epoch 13/40\n",
            "16/16 [==============================] - 11s 695ms/step - loss: 0.3852 - categorical_accuracy: 0.8507 - val_loss: 0.6140 - val_categorical_accuracy: 0.7543\n",
            "Epoch 14/40\n",
            "16/16 [==============================] - 11s 703ms/step - loss: 0.3842 - categorical_accuracy: 0.8492 - val_loss: 0.5122 - val_categorical_accuracy: 0.7908\n",
            "Epoch 15/40\n",
            "16/16 [==============================] - 12s 774ms/step - loss: 0.3411 - categorical_accuracy: 0.8615 - val_loss: 0.5119 - val_categorical_accuracy: 0.7946\n",
            "Epoch 16/40\n",
            "16/16 [==============================] - 11s 685ms/step - loss: 0.3427 - categorical_accuracy: 0.8696 - val_loss: 0.5176 - val_categorical_accuracy: 0.7908\n",
            "Epoch 17/40\n",
            "16/16 [==============================] - 11s 690ms/step - loss: 0.3218 - categorical_accuracy: 0.8742 - val_loss: 0.5220 - val_categorical_accuracy: 0.7927\n",
            "Epoch 18/40\n",
            "16/16 [==============================] - 11s 684ms/step - loss: 0.3236 - categorical_accuracy: 0.8814 - val_loss: 0.5000 - val_categorical_accuracy: 0.8138\n",
            "Epoch 19/40\n",
            "16/16 [==============================] - 11s 694ms/step - loss: 0.2718 - categorical_accuracy: 0.9024 - val_loss: 0.6177 - val_categorical_accuracy: 0.7927\n",
            "Epoch 20/40\n",
            "16/16 [==============================] - 11s 688ms/step - loss: 0.2905 - categorical_accuracy: 0.8978 - val_loss: 0.4624 - val_categorical_accuracy: 0.8196\n",
            "Epoch 21/40\n",
            "16/16 [==============================] - 11s 691ms/step - loss: 0.2584 - categorical_accuracy: 0.9070 - val_loss: 0.5480 - val_categorical_accuracy: 0.7985\n",
            "Epoch 22/40\n",
            "16/16 [==============================] - 11s 689ms/step - loss: 0.2761 - categorical_accuracy: 0.8993 - val_loss: 0.6101 - val_categorical_accuracy: 0.7946\n",
            "Epoch 23/40\n",
            "16/16 [==============================] - 11s 690ms/step - loss: 0.2554 - categorical_accuracy: 0.9044 - val_loss: 0.5957 - val_categorical_accuracy: 0.7965\n",
            "Epoch 24/40\n",
            "16/16 [==============================] - 11s 683ms/step - loss: 0.2481 - categorical_accuracy: 0.9110 - val_loss: 0.5853 - val_categorical_accuracy: 0.8081\n",
            "Epoch 25/40\n",
            "16/16 [==============================] - 11s 683ms/step - loss: 0.2356 - categorical_accuracy: 0.9116 - val_loss: 0.5799 - val_categorical_accuracy: 0.7908\n",
            "Epoch 26/40\n",
            "16/16 [==============================] - 11s 682ms/step - loss: 0.2317 - categorical_accuracy: 0.9172 - val_loss: 0.5526 - val_categorical_accuracy: 0.7965\n",
            "Epoch 27/40\n",
            "16/16 [==============================] - 11s 683ms/step - loss: 0.2164 - categorical_accuracy: 0.9192 - val_loss: 0.5731 - val_categorical_accuracy: 0.7965\n",
            "Epoch 28/40\n",
            "16/16 [==============================] - 11s 679ms/step - loss: 0.2227 - categorical_accuracy: 0.9151 - val_loss: 0.5374 - val_categorical_accuracy: 0.8273\n",
            "Epoch 29/40\n",
            "16/16 [==============================] - 11s 688ms/step - loss: 0.2198 - categorical_accuracy: 0.9238 - val_loss: 0.5124 - val_categorical_accuracy: 0.8292\n",
            "Epoch 30/40\n",
            "16/16 [==============================] - 11s 686ms/step - loss: 0.1978 - categorical_accuracy: 0.9310 - val_loss: 0.6867 - val_categorical_accuracy: 0.7639\n",
            "Epoch 31/40\n",
            "16/16 [==============================] - 13s 796ms/step - loss: 0.2227 - categorical_accuracy: 0.9126 - val_loss: 0.6792 - val_categorical_accuracy: 0.8177\n",
            "Epoch 32/40\n",
            "16/16 [==============================] - 11s 691ms/step - loss: 0.2094 - categorical_accuracy: 0.9254 - val_loss: 0.6281 - val_categorical_accuracy: 0.8138\n",
            "Epoch 33/40\n",
            "16/16 [==============================] - 11s 682ms/step - loss: 0.1692 - categorical_accuracy: 0.9402 - val_loss: 0.6637 - val_categorical_accuracy: 0.8119\n",
            "Epoch 34/40\n",
            "16/16 [==============================] - 11s 690ms/step - loss: 0.1741 - categorical_accuracy: 0.9402 - val_loss: 0.7563 - val_categorical_accuracy: 0.8100\n",
            "Epoch 35/40\n",
            "16/16 [==============================] - 11s 695ms/step - loss: 0.1795 - categorical_accuracy: 0.9325 - val_loss: 0.5694 - val_categorical_accuracy: 0.8215\n",
            "Epoch 36/40\n",
            "16/16 [==============================] - 11s 693ms/step - loss: 0.1694 - categorical_accuracy: 0.9402 - val_loss: 0.5857 - val_categorical_accuracy: 0.8273\n",
            "Epoch 37/40\n",
            "16/16 [==============================] - 11s 681ms/step - loss: 0.1515 - categorical_accuracy: 0.9514 - val_loss: 0.5352 - val_categorical_accuracy: 0.8580\n",
            "Epoch 38/40\n",
            "16/16 [==============================] - 11s 695ms/step - loss: 0.1380 - categorical_accuracy: 0.9514 - val_loss: 0.6448 - val_categorical_accuracy: 0.8042\n",
            "Epoch 39/40\n",
            "16/16 [==============================] - 11s 691ms/step - loss: 0.1352 - categorical_accuracy: 0.9540 - val_loss: 0.5594 - val_categorical_accuracy: 0.8234\n",
            "Epoch 40/40\n",
            "16/16 [==============================] - 12s 724ms/step - loss: 0.1286 - categorical_accuracy: 0.9535 - val_loss: 0.6338 - val_categorical_accuracy: 0.8407\n"
          ]
        }
      ]
    },
    {
      "cell_type": "code",
      "source": [
        "results = model.evaluate(x_test, y_test, batch_size = BATCH_SIZE)\n",
        "print(\"Validation loss, categorical_accuracy:\", results)"
      ],
      "metadata": {
        "colab": {
          "base_uri": "https://localhost:8080/"
        },
        "id": "CgQYnbKt4fNH",
        "outputId": "97ae3f77-ca76-49f7-fa16-d2c0c92a385f"
      },
      "execution_count": null,
      "outputs": [
        {
          "output_type": "stream",
          "name": "stdout",
          "text": [
            "5/5 [==============================] - 0s 48ms/step - loss: 0.6338 - categorical_accuracy: 0.8407\n",
            "Validation loss, categorical_accuracy: [0.6338455677032471, 0.8406909704208374]\n"
          ]
        }
      ]
    },
    {
      "cell_type": "code",
      "source": [
        "sns.set_style('whitegrid')\n",
        "plt.figure(figsize=(12,5))\n",
        "plt.plot(history.history['categorical_accuracy'])\n",
        "plt.plot(history.history['val_categorical_accuracy'])\n",
        "plt.title('Model Accuracy')\n",
        "plt.ylabel('Accuracy')\n",
        "plt.xlabel('Epochs')\n",
        "plt.legend(['train', 'test'])\n",
        "plt.show()"
      ],
      "metadata": {
        "colab": {
          "base_uri": "https://localhost:8080/",
          "height": 350
        },
        "id": "I115tVcL2M-f",
        "outputId": "0da4e2e7-aaf4-4e53-bee1-9d7a8dd7a4a7"
      },
      "execution_count": null,
      "outputs": [
        {
          "output_type": "display_data",
          "data": {
            "text/plain": [
              "<Figure size 864x360 with 1 Axes>"
            ],
            "image/png": "[encoded data removed]"
          },
          "metadata": {}
        }
      ]
    },
    {
      "cell_type": "code",
      "source": [
        "sns.set_style('whitegrid')\n",
        "plt.figure(figsize=(12,5))\n",
        "plt.plot(history.history['loss'])\n",
        "plt.plot(history.history['val_loss'])\n",
        "plt.title('Model Loss')\n",
        "plt.ylabel('Loss')\n",
        "plt.xlabel('Epochs')\n",
        "plt.legend(['train', 'test'])\n",
        "plt.show()"
      ],
      "metadata": {
        "colab": {
          "base_uri": "https://localhost:8080/",
          "height": 350
        },
        "id": "wYNmTFcz296E",
        "outputId": "98284d50-556f-4037-d05a-c877b20a6530"
      },
      "execution_count": null,
      "outputs": [
        {
          "output_type": "display_data",
          "data": {
            "text/plain": [
              "<Figure size 864x360 with 1 Axes>"
            ],
            "image/png": "[encoded data removed]"
          },
          "metadata": {}
        }
      ]
    },
    {
      "cell_type": "code",
      "source": [
        "converter = tf.lite.TFLiteConverter.from_saved_model(\"SavedModel_path\")\n",
        "tflite_model = converter.convert()\n",
        " \n",
        "with tf.io.gfile.GFile('CNN.tflite', 'wb') as f:\n",
        "    f.write(tflite_model)"
      ],
      "metadata": {
        "id": "IFGEJ3hzBZSG"
      },
      "execution_count": null,
      "outputs": []
    }
  ]
}